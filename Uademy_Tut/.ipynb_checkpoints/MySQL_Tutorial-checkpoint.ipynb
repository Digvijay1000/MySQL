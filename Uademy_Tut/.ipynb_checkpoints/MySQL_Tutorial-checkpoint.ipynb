{
 "cells": [
  {
   "cell_type": "markdown",
   "id": "69a697e7-bd03-40c9-ae74-14165266df1a",
   "metadata": {},
   "source": [
    "# MySQL Tutorial "
   ]
  },
  {
   "cell_type": "code",
   "execution_count": 1,
   "id": "ba5ddeb1-a516-4e03-a7a5-ada74dfa09af",
   "metadata": {},
   "outputs": [
    {
     "name": "stdout",
     "output_type": "stream",
     "text": [
      "Collecting mysql-connector-python\n",
      "  Obtaining dependency information for mysql-connector-python from https://files.pythonhosted.org/packages/d3/b8/6798a0f91e595c0704a94c1e32a00ca930f77cb8f0f96c7e4dad4f9db1fe/mysql_connector_python-8.1.0-cp311-cp311-win_amd64.whl.metadata\n",
      "  Downloading mysql_connector_python-8.1.0-cp311-cp311-win_amd64.whl.metadata (2.1 kB)\n",
      "Collecting protobuf<=4.21.12,>=4.21.1 (from mysql-connector-python)\n",
      "  Downloading protobuf-4.21.12-cp310-abi3-win_amd64.whl (527 kB)\n",
      "     ---------------------------------------- 0.0/527.0 kB ? eta -:--:--\n",
      "      --------------------------------------- 10.2/527.0 kB ? eta -:--:--\n",
      "      --------------------------------------- 10.2/527.0 kB ? eta -:--:--\n",
      "     -- ---------------------------------- 30.7/527.0 kB 435.7 kB/s eta 0:00:02\n",
      "     ------ ------------------------------ 92.2/527.0 kB 655.4 kB/s eta 0:00:01\n",
      "     ------- ---------------------------- 112.6/527.0 kB 656.4 kB/s eta 0:00:01\n",
      "     ---------- ------------------------- 153.6/527.0 kB 706.2 kB/s eta 0:00:01\n",
      "     ------------- ---------------------- 194.6/527.0 kB 787.7 kB/s eta 0:00:01\n",
      "     ------------- ---------------------- 204.8/527.0 kB 655.1 kB/s eta 0:00:01\n",
      "     ---------------- ------------------- 235.5/527.0 kB 654.9 kB/s eta 0:00:01\n",
      "     ------------------ ----------------- 276.5/527.0 kB 710.0 kB/s eta 0:00:01\n",
      "     -------------------- --------------- 307.2/527.0 kB 731.4 kB/s eta 0:00:01\n",
      "     ------------------------- ---------- 368.6/527.0 kB 764.2 kB/s eta 0:00:01\n",
      "     ------------------------------ ----- 440.3/527.0 kB 835.1 kB/s eta 0:00:01\n",
      "     -------------------------------- --- 481.3/527.0 kB 861.1 kB/s eta 0:00:01\n",
      "     -----------------------------------  522.2/527.0 kB 840.7 kB/s eta 0:00:01\n",
      "     ------------------------------------ 527.0/527.0 kB 848.5 kB/s eta 0:00:00\n",
      "Downloading mysql_connector_python-8.1.0-cp311-cp311-win_amd64.whl (10.8 MB)\n",
      "   ---------------------------------------- 0.0/10.8 MB ? eta -:--:--\n",
      "   ---------------------------------------- 0.0/10.8 MB 991.0 kB/s eta 0:00:11\n",
      "   ---------------------------------------- 0.1/10.8 MB 1.1 MB/s eta 0:00:11\n",
      "   ---------------------------------------- 0.1/10.8 MB 1.2 MB/s eta 0:00:09\n",
      "    --------------------------------------- 0.2/10.8 MB 1.2 MB/s eta 0:00:10\n",
      "    --------------------------------------- 0.2/10.8 MB 1.1 MB/s eta 0:00:11\n",
      "   - -------------------------------------- 0.3/10.8 MB 1.2 MB/s eta 0:00:09\n",
      "   - -------------------------------------- 0.3/10.8 MB 1.2 MB/s eta 0:00:10\n",
      "   - -------------------------------------- 0.4/10.8 MB 1.2 MB/s eta 0:00:09\n",
      "   - -------------------------------------- 0.5/10.8 MB 1.2 MB/s eta 0:00:09\n",
      "   - -------------------------------------- 0.5/10.8 MB 1.3 MB/s eta 0:00:09\n",
      "   -- ------------------------------------- 0.6/10.8 MB 1.3 MB/s eta 0:00:09\n",
      "   -- ------------------------------------- 0.7/10.8 MB 1.3 MB/s eta 0:00:08\n",
      "   -- ------------------------------------- 0.7/10.8 MB 1.3 MB/s eta 0:00:08\n",
      "   -- ------------------------------------- 0.8/10.8 MB 1.3 MB/s eta 0:00:08\n",
      "   --- ------------------------------------ 0.8/10.8 MB 1.3 MB/s eta 0:00:08\n",
      "   --- ------------------------------------ 0.9/10.8 MB 1.3 MB/s eta 0:00:08\n",
      "   --- ------------------------------------ 0.9/10.8 MB 1.3 MB/s eta 0:00:08\n",
      "   --- ------------------------------------ 1.0/10.8 MB 1.3 MB/s eta 0:00:08\n",
      "   --- ------------------------------------ 1.1/10.8 MB 1.3 MB/s eta 0:00:08\n",
      "   ---- ----------------------------------- 1.1/10.8 MB 1.3 MB/s eta 0:00:08\n",
      "   ---- ----------------------------------- 1.2/10.8 MB 1.3 MB/s eta 0:00:08\n",
      "   ---- ----------------------------------- 1.2/10.8 MB 1.3 MB/s eta 0:00:08\n",
      "   ---- ----------------------------------- 1.3/10.8 MB 1.3 MB/s eta 0:00:08\n",
      "   ---- ----------------------------------- 1.3/10.8 MB 1.3 MB/s eta 0:00:08\n",
      "   ----- ---------------------------------- 1.4/10.8 MB 1.3 MB/s eta 0:00:08\n",
      "   ----- ---------------------------------- 1.4/10.8 MB 1.3 MB/s eta 0:00:08\n",
      "   ----- ---------------------------------- 1.5/10.8 MB 1.3 MB/s eta 0:00:08\n",
      "   ----- ---------------------------------- 1.6/10.8 MB 1.3 MB/s eta 0:00:08\n",
      "   ------ --------------------------------- 1.6/10.8 MB 1.3 MB/s eta 0:00:08\n",
      "   ------ --------------------------------- 1.7/10.8 MB 1.3 MB/s eta 0:00:07\n",
      "   ------ --------------------------------- 1.7/10.8 MB 1.3 MB/s eta 0:00:08\n",
      "   ------ --------------------------------- 1.7/10.8 MB 1.3 MB/s eta 0:00:08\n",
      "   ------ --------------------------------- 1.8/10.8 MB 1.3 MB/s eta 0:00:08\n",
      "   ------ --------------------------------- 1.8/10.8 MB 1.2 MB/s eta 0:00:08\n",
      "   ------ --------------------------------- 1.8/10.8 MB 1.2 MB/s eta 0:00:08\n",
      "   ------ --------------------------------- 1.9/10.8 MB 1.2 MB/s eta 0:00:08\n",
      "   ------- -------------------------------- 1.9/10.8 MB 1.2 MB/s eta 0:00:08\n",
      "   ------- -------------------------------- 1.9/10.8 MB 1.2 MB/s eta 0:00:08\n",
      "   ------- -------------------------------- 2.0/10.8 MB 1.2 MB/s eta 0:00:08\n",
      "   ------- -------------------------------- 2.0/10.8 MB 1.2 MB/s eta 0:00:08\n",
      "   ------- -------------------------------- 2.0/10.8 MB 1.2 MB/s eta 0:00:08\n",
      "   ------- -------------------------------- 2.1/10.8 MB 1.2 MB/s eta 0:00:08\n",
      "   ------- -------------------------------- 2.1/10.8 MB 1.2 MB/s eta 0:00:08\n",
      "   ------- -------------------------------- 2.2/10.8 MB 1.1 MB/s eta 0:00:08\n",
      "   -------- ------------------------------- 2.2/10.8 MB 1.2 MB/s eta 0:00:08\n",
      "   -------- ------------------------------- 2.3/10.8 MB 1.1 MB/s eta 0:00:08\n",
      "   -------- ------------------------------- 2.4/10.8 MB 1.2 MB/s eta 0:00:08\n",
      "   -------- ------------------------------- 2.4/10.8 MB 1.2 MB/s eta 0:00:08\n",
      "   --------- ------------------------------ 2.5/10.8 MB 1.2 MB/s eta 0:00:08\n",
      "   --------- ------------------------------ 2.6/10.8 MB 1.2 MB/s eta 0:00:07\n",
      "   --------- ------------------------------ 2.6/10.8 MB 1.2 MB/s eta 0:00:07\n",
      "   --------- ------------------------------ 2.7/10.8 MB 1.2 MB/s eta 0:00:07\n",
      "   ---------- ----------------------------- 2.8/10.8 MB 1.2 MB/s eta 0:00:07\n",
      "   ---------- ----------------------------- 2.8/10.8 MB 1.2 MB/s eta 0:00:07\n",
      "   ---------- ----------------------------- 2.9/10.8 MB 1.2 MB/s eta 0:00:07\n",
      "   ----------- ---------------------------- 3.0/10.8 MB 1.2 MB/s eta 0:00:07\n",
      "   ----------- ---------------------------- 3.1/10.8 MB 1.3 MB/s eta 0:00:07\n",
      "   ----------- ---------------------------- 3.2/10.8 MB 1.3 MB/s eta 0:00:07\n",
      "   ------------ --------------------------- 3.3/10.8 MB 1.3 MB/s eta 0:00:06\n",
      "   ------------ --------------------------- 3.3/10.8 MB 1.3 MB/s eta 0:00:06\n",
      "   ------------ --------------------------- 3.4/10.8 MB 1.3 MB/s eta 0:00:06\n",
      "   ------------ --------------------------- 3.5/10.8 MB 1.3 MB/s eta 0:00:06\n",
      "   ------------ --------------------------- 3.5/10.8 MB 1.3 MB/s eta 0:00:06\n",
      "   ------------- -------------------------- 3.6/10.8 MB 1.3 MB/s eta 0:00:06\n",
      "   ------------- -------------------------- 3.7/10.8 MB 1.3 MB/s eta 0:00:06\n",
      "   ------------- -------------------------- 3.7/10.8 MB 1.3 MB/s eta 0:00:06\n",
      "   -------------- ------------------------- 3.8/10.8 MB 1.3 MB/s eta 0:00:06\n",
      "   -------------- ------------------------- 3.9/10.8 MB 1.3 MB/s eta 0:00:06\n",
      "   -------------- ------------------------- 3.9/10.8 MB 1.3 MB/s eta 0:00:06\n",
      "   -------------- ------------------------- 4.0/10.8 MB 1.3 MB/s eta 0:00:06\n",
      "   --------------- ------------------------ 4.1/10.8 MB 1.4 MB/s eta 0:00:05\n",
      "   --------------- ------------------------ 4.2/10.8 MB 1.4 MB/s eta 0:00:05\n",
      "   --------------- ------------------------ 4.3/10.8 MB 1.4 MB/s eta 0:00:05\n",
      "   ---------------- ----------------------- 4.3/10.8 MB 1.4 MB/s eta 0:00:05\n",
      "   ---------------- ----------------------- 4.4/10.8 MB 1.4 MB/s eta 0:00:05\n",
      "   ---------------- ----------------------- 4.5/10.8 MB 1.4 MB/s eta 0:00:05\n",
      "   ---------------- ----------------------- 4.6/10.8 MB 1.4 MB/s eta 0:00:05\n",
      "   ----------------- ---------------------- 4.6/10.8 MB 1.4 MB/s eta 0:00:05\n",
      "   ----------------- ---------------------- 4.7/10.8 MB 1.4 MB/s eta 0:00:05\n",
      "   ----------------- ---------------------- 4.7/10.8 MB 1.4 MB/s eta 0:00:05\n",
      "   ----------------- ---------------------- 4.8/10.8 MB 1.4 MB/s eta 0:00:05\n",
      "   ------------------ --------------------- 4.9/10.8 MB 1.4 MB/s eta 0:00:05\n",
      "   ------------------ --------------------- 4.9/10.8 MB 1.4 MB/s eta 0:00:05\n",
      "   ------------------ --------------------- 5.0/10.8 MB 1.4 MB/s eta 0:00:05\n",
      "   ------------------ --------------------- 5.1/10.8 MB 1.4 MB/s eta 0:00:05\n",
      "   ------------------- -------------------- 5.2/10.8 MB 1.4 MB/s eta 0:00:05\n",
      "   ------------------- -------------------- 5.2/10.8 MB 1.4 MB/s eta 0:00:04\n",
      "   ------------------- -------------------- 5.3/10.8 MB 1.4 MB/s eta 0:00:04\n",
      "   ------------------- -------------------- 5.4/10.8 MB 1.4 MB/s eta 0:00:04\n",
      "   -------------------- ------------------- 5.5/10.8 MB 1.4 MB/s eta 0:00:04\n",
      "   -------------------- ------------------- 5.5/10.8 MB 1.4 MB/s eta 0:00:04\n",
      "   -------------------- ------------------- 5.6/10.8 MB 1.4 MB/s eta 0:00:04\n",
      "   -------------------- ------------------- 5.7/10.8 MB 1.4 MB/s eta 0:00:04\n",
      "   --------------------- ------------------ 5.7/10.8 MB 1.4 MB/s eta 0:00:04\n",
      "   --------------------- ------------------ 5.8/10.8 MB 1.4 MB/s eta 0:00:04\n",
      "   --------------------- ------------------ 5.8/10.8 MB 1.4 MB/s eta 0:00:04\n",
      "   --------------------- ------------------ 6.0/10.8 MB 1.4 MB/s eta 0:00:04\n",
      "   ---------------------- ----------------- 6.0/10.8 MB 1.4 MB/s eta 0:00:04\n",
      "   ---------------------- ----------------- 6.1/10.8 MB 1.4 MB/s eta 0:00:04\n",
      "   ---------------------- ----------------- 6.1/10.8 MB 1.4 MB/s eta 0:00:04\n",
      "   ---------------------- ----------------- 6.2/10.8 MB 1.4 MB/s eta 0:00:04\n",
      "   ----------------------- ---------------- 6.3/10.8 MB 1.4 MB/s eta 0:00:04\n",
      "   ----------------------- ---------------- 6.3/10.8 MB 1.4 MB/s eta 0:00:04\n",
      "   ----------------------- ---------------- 6.4/10.8 MB 1.4 MB/s eta 0:00:04\n",
      "   ----------------------- ---------------- 6.5/10.8 MB 1.4 MB/s eta 0:00:04\n",
      "   ------------------------ --------------- 6.5/10.8 MB 1.4 MB/s eta 0:00:03\n",
      "   ------------------------ --------------- 6.6/10.8 MB 1.4 MB/s eta 0:00:03\n",
      "   ------------------------ --------------- 6.6/10.8 MB 1.4 MB/s eta 0:00:03\n",
      "   ------------------------ --------------- 6.7/10.8 MB 1.4 MB/s eta 0:00:03\n",
      "   ------------------------- -------------- 6.8/10.8 MB 1.4 MB/s eta 0:00:03\n",
      "   ------------------------- -------------- 6.9/10.8 MB 1.4 MB/s eta 0:00:03\n",
      "   ------------------------- -------------- 6.9/10.8 MB 1.4 MB/s eta 0:00:03\n",
      "   ------------------------- -------------- 7.0/10.8 MB 1.4 MB/s eta 0:00:03\n",
      "   ------------------------- -------------- 7.0/10.8 MB 1.4 MB/s eta 0:00:03\n",
      "   -------------------------- ------------- 7.1/10.8 MB 1.4 MB/s eta 0:00:03\n",
      "   -------------------------- ------------- 7.1/10.8 MB 1.4 MB/s eta 0:00:03\n",
      "   -------------------------- ------------- 7.2/10.8 MB 1.4 MB/s eta 0:00:03\n",
      "   -------------------------- ------------- 7.3/10.8 MB 1.4 MB/s eta 0:00:03\n",
      "   --------------------------- ------------ 7.3/10.8 MB 1.4 MB/s eta 0:00:03\n",
      "   --------------------------- ------------ 7.4/10.8 MB 1.4 MB/s eta 0:00:03\n",
      "   --------------------------- ------------ 7.5/10.8 MB 1.4 MB/s eta 0:00:03\n",
      "   --------------------------- ------------ 7.5/10.8 MB 1.4 MB/s eta 0:00:03\n",
      "   --------------------------- ------------ 7.6/10.8 MB 1.4 MB/s eta 0:00:03\n",
      "   ---------------------------- ----------- 7.6/10.8 MB 1.4 MB/s eta 0:00:03\n",
      "   ---------------------------- ----------- 7.7/10.8 MB 1.4 MB/s eta 0:00:03\n",
      "   ---------------------------- ----------- 7.8/10.8 MB 1.4 MB/s eta 0:00:03\n",
      "   ---------------------------- ----------- 7.8/10.8 MB 1.4 MB/s eta 0:00:03\n",
      "   ----------------------------- ---------- 7.9/10.8 MB 1.4 MB/s eta 0:00:03\n",
      "   ----------------------------- ---------- 7.9/10.8 MB 1.4 MB/s eta 0:00:03\n",
      "   ----------------------------- ---------- 8.0/10.8 MB 1.4 MB/s eta 0:00:03\n",
      "   ----------------------------- ---------- 8.0/10.8 MB 1.4 MB/s eta 0:00:02\n",
      "   ----------------------------- ---------- 8.0/10.8 MB 1.4 MB/s eta 0:00:02\n",
      "   ----------------------------- ---------- 8.1/10.8 MB 1.4 MB/s eta 0:00:02\n",
      "   ------------------------------ --------- 8.2/10.8 MB 1.4 MB/s eta 0:00:02\n",
      "   ------------------------------ --------- 8.2/10.8 MB 1.4 MB/s eta 0:00:02\n",
      "   ------------------------------ --------- 8.3/10.8 MB 1.4 MB/s eta 0:00:02\n",
      "   ------------------------------ --------- 8.4/10.8 MB 1.4 MB/s eta 0:00:02\n",
      "   ------------------------------ --------- 8.4/10.8 MB 1.4 MB/s eta 0:00:02\n",
      "   ------------------------------- -------- 8.5/10.8 MB 1.4 MB/s eta 0:00:02\n",
      "   ------------------------------- -------- 8.5/10.8 MB 1.4 MB/s eta 0:00:02\n",
      "   ------------------------------- -------- 8.6/10.8 MB 1.4 MB/s eta 0:00:02\n",
      "   ------------------------------- -------- 8.7/10.8 MB 1.4 MB/s eta 0:00:02\n",
      "   -------------------------------- ------- 8.7/10.8 MB 1.4 MB/s eta 0:00:02\n",
      "   -------------------------------- ------- 8.8/10.8 MB 1.4 MB/s eta 0:00:02\n",
      "   -------------------------------- ------- 8.8/10.8 MB 1.4 MB/s eta 0:00:02\n",
      "   -------------------------------- ------- 8.9/10.8 MB 1.4 MB/s eta 0:00:02\n",
      "   --------------------------------- ------ 9.0/10.8 MB 1.4 MB/s eta 0:00:02\n",
      "   --------------------------------- ------ 9.0/10.8 MB 1.4 MB/s eta 0:00:02\n",
      "   --------------------------------- ------ 9.1/10.8 MB 1.4 MB/s eta 0:00:02\n",
      "   --------------------------------- ------ 9.2/10.8 MB 1.4 MB/s eta 0:00:02\n",
      "   ---------------------------------- ----- 9.2/10.8 MB 1.4 MB/s eta 0:00:02\n",
      "   ---------------------------------- ----- 9.3/10.8 MB 1.4 MB/s eta 0:00:02\n",
      "   ---------------------------------- ----- 9.4/10.8 MB 1.4 MB/s eta 0:00:01\n",
      "   ---------------------------------- ----- 9.5/10.8 MB 1.4 MB/s eta 0:00:01\n",
      "   ----------------------------------- ---- 9.6/10.8 MB 1.4 MB/s eta 0:00:01\n",
      "   ----------------------------------- ---- 9.6/10.8 MB 1.4 MB/s eta 0:00:01\n",
      "   ----------------------------------- ---- 9.7/10.8 MB 1.4 MB/s eta 0:00:01\n",
      "   ------------------------------------ --- 9.8/10.8 MB 1.4 MB/s eta 0:00:01\n",
      "   ------------------------------------ --- 9.8/10.8 MB 1.4 MB/s eta 0:00:01\n",
      "   ------------------------------------ --- 9.9/10.8 MB 1.4 MB/s eta 0:00:01\n",
      "   ------------------------------------ --- 10.0/10.8 MB 1.4 MB/s eta 0:00:01\n",
      "   ------------------------------------- -- 10.0/10.8 MB 1.4 MB/s eta 0:00:01\n",
      "   ------------------------------------- -- 10.1/10.8 MB 1.4 MB/s eta 0:00:01\n",
      "   ------------------------------------- -- 10.2/10.8 MB 1.4 MB/s eta 0:00:01\n",
      "   ------------------------------------- -- 10.3/10.8 MB 1.5 MB/s eta 0:00:01\n",
      "   -------------------------------------- - 10.3/10.8 MB 1.5 MB/s eta 0:00:01\n",
      "   -------------------------------------- - 10.4/10.8 MB 1.5 MB/s eta 0:00:01\n",
      "   -------------------------------------- - 10.4/10.8 MB 1.5 MB/s eta 0:00:01\n",
      "   -------------------------------------- - 10.5/10.8 MB 1.5 MB/s eta 0:00:01\n",
      "   -------------------------------------- - 10.6/10.8 MB 1.5 MB/s eta 0:00:01\n",
      "   ---------------------------------------  10.6/10.8 MB 1.5 MB/s eta 0:00:01\n",
      "   ---------------------------------------  10.7/10.8 MB 1.5 MB/s eta 0:00:01\n",
      "   ---------------------------------------  10.7/10.8 MB 1.5 MB/s eta 0:00:01\n",
      "   ---------------------------------------  10.8/10.8 MB 1.5 MB/s eta 0:00:01\n",
      "   ---------------------------------------  10.8/10.8 MB 1.5 MB/s eta 0:00:01\n",
      "   ---------------------------------------- 10.8/10.8 MB 1.5 MB/s eta 0:00:00\n",
      "Installing collected packages: protobuf, mysql-connector-python\n",
      "Successfully installed mysql-connector-python-8.1.0 protobuf-4.21.12\n",
      "Note: you may need to restart the kernel to use updated packages.\n"
     ]
    }
   ],
   "source": [
    "# pip install mysql-connector-python"
   ]
  },
  {
   "cell_type": "code",
   "execution_count": 3,
   "id": "45ae2969-2481-4073-8bcb-bbdde330379b",
   "metadata": {},
   "outputs": [],
   "source": [
    "import pandas as pd\n",
    "import numpy as np\n",
    "import mysql.connector"
   ]
  },
  {
   "cell_type": "code",
   "execution_count": 4,
   "id": "4eb457ca-519e-4b1e-bccc-240953e56688",
   "metadata": {},
   "outputs": [
    {
     "data": {
      "text/plain": [
       "<mysql.connector.connection_cext.CMySQLConnection at 0x2295d3f7150>"
      ]
     },
     "execution_count": 4,
     "metadata": {},
     "output_type": "execute_result"
    }
   ],
   "source": [
    "cnx = mysql.connector.connect(user='root',password='9175033081',host='localhost',database='abhidb')\n",
    "cnx"
   ]
  },
  {
   "cell_type": "code",
   "execution_count": 5,
   "id": "99f0f52b-1c65-4878-bfcd-912c0f72c4cb",
   "metadata": {},
   "outputs": [
    {
     "data": {
      "text/plain": [
       "<mysql.connector.cursor_cext.CMySQLCursor at 0x2294dbc1110>"
      ]
     },
     "execution_count": 5,
     "metadata": {},
     "output_type": "execute_result"
    }
   ],
   "source": [
    "cursor = cnx.cursor()\n",
    "cursor"
   ]
  },
  {
   "cell_type": "code",
   "execution_count": 7,
   "id": "ad3d7f74-7268-45b5-9dcb-92b1e83f2ec6",
   "metadata": {},
   "outputs": [],
   "source": [
    "cursor.execute('show databases')"
   ]
  },
  {
   "cell_type": "code",
   "execution_count": 8,
   "id": "526870f4-b921-4319-ab24-6275aec8d6d6",
   "metadata": {},
   "outputs": [],
   "source": [
    "res=cursor.fetchall()"
   ]
  },
  {
   "cell_type": "code",
   "execution_count": 9,
   "id": "76b8b689-e144-4bb5-89df-1a39bffd2449",
   "metadata": {},
   "outputs": [
    {
     "name": "stdout",
     "output_type": "stream",
     "text": [
      "('abhidb',)\n",
      "('information_schema',)\n",
      "('mysql',)\n",
      "('performance_schema',)\n",
      "('sys',)\n"
     ]
    }
   ],
   "source": [
    "for i in res:\n",
    "    print(i)"
   ]
  },
  {
   "cell_type": "markdown",
   "id": "134582e4-a98a-4f48-b7f6-4ea10d394cef",
   "metadata": {},
   "source": [
    "### 1. Setting up things"
   ]
  },
  {
   "cell_type": "code",
   "execution_count": null,
   "id": "48005fce-542f-4a1e-835a-2a8230db7f7e",
   "metadata": {},
   "outputs": [],
   "source": [
    "CREATE TABLE users (\n",
    "  user_id INTEGER PRIMARY KEY,\n",
    "  first_name TEXT NOT NULL,\n",
    "  last_name TEXT NOT NULL,\n",
    "  email varchar(255) NOT NULL,\n",
    "  phone TEXT NOT NULL,\n",
    "  city TEXT,\n",
    "  registration_date DATETIME NOT NULL,\n",
    "  unique(email(255)));\n",
    "\n",
    "\n",
    "INSERT INTO users (user_id, first_name, last_name, email, phone, city, registration_date) VALUES\n",
    "(1,'John', 'Doe', 'johndoe@example.com', '555-1234', 'New York', '2023-01-02'),\n",
    "(2,'Jane', 'Doe', 'janedoe@example.com', '555-5678', 'Los Angeles', '2023-01-03'),\n",
    "(3,'Bob', 'Smith', 'bobsmith@example.com', '555-9012', 'Chicago', '2023-01-04'),\n",
    "(4,'Samantha', 'Johnson', 'sjohnson@example.com', '555-3456', 'San Francisco', '2023-01-05'),\n",
    "(5,'David', 'Brown', 'dbrown@example.com', '555-7890', 'Seattle', '2023-01-06'),\n",
    "(6,'Emily', 'Davis', 'edavis@example.com', '555-2345', 'Boston', '2023-01-07'),\n",
    "(7,'Michael', 'Wilson', 'mwilson@example.com', '555-6789', 'Houston', '2023-01-08'),\n",
    "(8,'Sarah', 'Garcia', 'sgarcia@example.com', '555-0123', 'Miami', '2023-01-09'),\n",
    "(9,'Daniel', 'Martinez', 'dmartinez@example.com', '555-4567', 'Atlanta', '2023-01-10'),\n",
    "(10,'Jessica', 'Lee', 'jlee@example.com', '555-8901', 'Dallas', '2023-01-11'),\n",
    "(11,'Matthew', 'Anderson', 'manderson@example.com', '555-8902', 'Detroit', '2023-01-12'),\n",
    "(12,'Ashley', 'Thomas', 'athomas@example.com', '555-8903', 'Phoenix', '2023-01-13'),\n",
    "(13,'Christopher', 'Taylor', 'ctaylor@example.com', '555-8904', 'San Diego', '2023-01-14'),\n",
    "(14,'Jennifer', 'Moore', 'jmoore@example.com', '555-8905', 'Denver', '2023-01-15'),\n",
    "(15,'Joshua', 'Jackson', 'jjackson@example.com', '555-8906', 'Portland', '2023-01-16'),\n",
    "(16,'Amanda', 'White', 'awhite@example.com', '555-8907', 'Indianapolis', '2023-01-17'),\n",
    "(17,'Andrew', 'Harris', 'aharris@example.com', '555-8908', 'Las Vegas', '2023-01-18'),\n",
    "(18,'Brittany', 'Martin', 'bmartin@example.com', '555-8909', 'Austin', '2023-01-19'),\n",
    "(19,'Brandon', 'Thompson', 'bthompson@example.com', '555-8910', 'Jacksonville', '2023-01-20'),\n",
    "(20,'Megan', 'Garcia', 'mgarcia@example.com', '555-8911', 'San Jose', '2023-01-21'),\n",
    "(21,'Justin', 'Martinez', 'jmartinez@example.com', '555-8912', 'Charlotte', '2023-01-22'),\n",
    "(22,'Melissa', 'Robinson', 'mrobinson@example.com', '555-8913', 'Fort Worth', '2023-01-23'),\n",
    "(23,'Kevin', 'Clark', 'kclark@example.com', '555-8914', 'Washington', '2023-01-24'),\n",
    "(24,'Rebecca', 'Rodriguez', 'rrodriguez@example.com', '555-8915', 'Baltimore', '2023-01-25'),\n",
    "(25,'Jacob', 'Lewis', 'jlewis@example.com', '555-8916', 'Milwaukee', '2023-01-26'),\n",
    "(26,'Michelle', 'Walker', 'mwalker@example.com', '555-8917', 'Albuquerque', '2023-01-27'),\n",
    "(27,'Ryan', 'Hall', 'rhall@example.com', '555-8918', 'Tucson', '2023-01-28'),\n",
    "(28,'Stephanie', 'Allen', 'sallen@example.com', '555-8919', 'Fresno', '2023-01-29'),\n",
    "(29,'Brian', 'Young', 'byoung@example.com', '555-8920', 'Sacramento', '2023-01-30'),\n",
    "(30,'Heather', 'King', 'hking@example.com', '555-8921', 'Kansas City', '2023-01-31');\n"
   ]
  },
  {
   "cell_type": "markdown",
   "id": "e8d56493-8d06-4eb5-99ad-e56249adeedb",
   "metadata": {},
   "source": [
    "### 2. Basic SQL Queries (SELECT, WHERE, FROM)"
   ]
  },
  {
   "cell_type": "code",
   "execution_count": null,
   "id": "116c6037-0b81-4f03-a0e8-d189207740d4",
   "metadata": {},
   "outputs": [],
   "source": [
    "SELECT \"Hello world!\";"
   ]
  },
  {
   "cell_type": "code",
   "execution_count": null,
   "id": "b6928387-a350-4369-a04c-dbba66bf74a1",
   "metadata": {},
   "outputs": [],
   "source": [
    "SELECT *\n",
    "FROM USERS\n",
    "WHERE CITY='New York';"
   ]
  },
  {
   "cell_type": "markdown",
   "id": "1a672d35-481e-44c1-a8cc-81d9a11b854e",
   "metadata": {},
   "source": [
    "### 3. Comments"
   ]
  },
  {
   "cell_type": "code",
   "execution_count": null,
   "id": "6e0f66e2-3bab-4e1b-a49d-d4f8d2f294f8",
   "metadata": {},
   "outputs": [],
   "source": [
    "-- This is a single line comment\n",
    "-- This is line two of single line comment\n",
    "\n",
    "SELECT *\n",
    "FROM USERS\n",
    "WHERE CITY='New York';\n",
    "\n",
    "/*\n",
    "This is a multi\n",
    "line comment.\n",
    "Good day!\n",
    "*/"
   ]
  },
  {
   "cell_type": "markdown",
   "id": "9533abcb-746e-4b6c-b175-e4d7ce83410f",
   "metadata": {},
   "source": [
    "### 4. Getting users from a CITY on a perticular date"
   ]
  },
  {
   "cell_type": "code",
   "execution_count": null,
   "id": "ed1e31a8-09f0-4f68-be41-f6e1f66f44c1",
   "metadata": {},
   "outputs": [],
   "source": [
    "SELECT *\n",
    "FROM USERS\n",
    "WHERE CITY='New York'\n",
    "  AND REGISTRATION_DATE = '2023-01-02';\n",
    "\n",
    "\n",
    "-- SELECT *\n",
    "-- FROM USERS;\n",
    "\n",
    "SELECT DATE('2019-04-26 18:40:34');\n",
    "\n",
    "SELECT DATE(REGISTRATION_DATE)\n",
    "FROM USERS;"
   ]
  },
  {
   "cell_type": "markdown",
   "id": "37a83910-6c12-43b0-9a94-f61d6edd96fc",
   "metadata": {},
   "source": [
    "### 5. Giving output column pretty names"
   ]
  },
  {
   "cell_type": "code",
   "execution_count": null,
   "id": "06f64946-aba4-4d01-a4f8-68117ead4330",
   "metadata": {},
   "outputs": [],
   "source": [
    "SELECT COUNT(USER_ID) AS \"COUNT OF USERS\"\n",
    "FROM USERS\n",
    "WHERE CITY='New York'\n",
    "  AND REGISTRATION_DATE = '2023-01-02';\n",
    "\n",
    "SELECT COUNT(*) AS \"TOTAL USERS\", COUNT(PHONE) AS \"USERS WITH PHONE\"\n",
    "FROM USERS;"
   ]
  },
  {
   "cell_type": "markdown",
   "id": "14368aac-c299-4033-9954-d35482fcbd61",
   "metadata": {},
   "source": [
    "### 6. Opeartors"
   ]
  },
  {
   "cell_type": "code",
   "execution_count": null,
   "id": "6467e19a-7ae6-4fac-9096-b82cbef2bb4e",
   "metadata": {},
   "outputs": [],
   "source": [
    "/*\n",
    "\n",
    "COMPARISION OPERATORS\n",
    "=, != (or <>), >, <, >=, <=\n",
    "\n",
    "ARITHMETIC OPERATORS\n",
    "+, -, *, /, %\n",
    "\n",
    "LOGICAL OPERATORS\n",
    "AND, OR, and NOT\n",
    "\n",
    "*/\n",
    "\n",
    "SELECT COUNT(USER_ID) AS \"COUNT OF USERS\"\n",
    "FROM USERS\n",
    "WHERE CITY='New York'\n",
    "  AND REGISTRATION_DATE = '2023-01-02';"
   ]
  },
  {
   "cell_type": "markdown",
   "id": "9d8c159b-ba0b-41d2-8351-a99be4d88b4e",
   "metadata": {},
   "source": [
    "#### Comparision Opeartor"
   ]
  },
  {
   "cell_type": "code",
   "execution_count": null,
   "id": "54616e6d-e0ca-43a0-8f1d-783fcb51aab8",
   "metadata": {},
   "outputs": [],
   "source": [
    "/*\n",
    "\n",
    "COMPARISION OPERATORS\n",
    "=, != (or <>), >, <, >=, <=\n",
    "\n",
    "*/\n",
    "\n",
    "SELECT *\n",
    "FROM USERS\n",
    "WHERE REGISTRATION_DATE >= '2023-01-01';\n",
    "\n",
    "SELECT *\n",
    "FROM USERS\n",
    "WHERE FIRST_NAME <> 'John';"
   ]
  },
  {
   "cell_type": "markdown",
   "id": "c71d0b89-b1d0-4bb4-bd25-d6e51b51bfff",
   "metadata": {},
   "source": [
    "#### Excluding a perticular City"
   ]
  },
  {
   "cell_type": "code",
   "execution_count": null,
   "id": "d51d8172-c418-4b41-bd72-9a0db93dab96",
   "metadata": {},
   "outputs": [],
   "source": [
    "SELECT *\n",
    "FROM USERS\n",
    "WHERE CITY != 'New York';\n",
    "\n",
    "SELECT *\n",
    "FROM USERS\n",
    "WHERE CITY <> 'New York';"
   ]
  },
  {
   "cell_type": "markdown",
   "id": "211ee040-3032-4629-8e6a-3eec585062bf",
   "metadata": {},
   "source": [
    "#### Getting users from city with name"
   ]
  },
  {
   "cell_type": "code",
   "execution_count": null,
   "id": "7a01cfdf-4a17-49d9-9028-3779e6bd8fda",
   "metadata": {},
   "outputs": [],
   "source": [
    "/*\n",
    "\n",
    "LOGICAL OPERATORS\n",
    "AND, OR, and NOT\n",
    "\n",
    "*/\n",
    "SELECT *\n",
    "FROM USERS\n",
    "WHERE CITY = 'Los Angeles'\n",
    "  AND LAST_NAME = 'Smith';"
   ]
  },
  {
   "cell_type": "markdown",
   "id": "f26bc8fb-bb5a-470d-97d7-fe7c190a19e5",
   "metadata": {},
   "source": [
    "#### Getting users who live in any of the cities"
   ]
  },
  {
   "cell_type": "code",
   "execution_count": null,
   "id": "395a7904-6317-41e7-a571-ec05530ae885",
   "metadata": {},
   "outputs": [],
   "source": [
    "/*\n",
    "\n",
    "LOGICAL OPERATORS\n",
    "AND, OR, and NOT\n",
    "\n",
    "*/\n",
    "\n",
    "SELECT *\n",
    "FROM USERS\n",
    "WHERE CITY = 'San Francisco'\n",
    "  OR CITY = 'San Diego';"
   ]
  },
  {
   "cell_type": "markdown",
   "id": "a7fc956d-2a64-464c-94ef-ea2a6362f912",
   "metadata": {},
   "source": [
    "#### Exluding a perticular city (Another way)"
   ]
  },
  {
   "cell_type": "code",
   "execution_count": null,
   "id": "bfc096c5-e722-47b0-a118-f61d504d2da7",
   "metadata": {},
   "outputs": [],
   "source": [
    "/*\n",
    "\n",
    "LOGICAL OPERATORS\n",
    "AND, OR, and NOT\n",
    "\n",
    "*/\n",
    "\n",
    "-- SELECT *\n",
    "-- FROM USERS\n",
    "-- WHERE CITY != 'New York';\n",
    "\n",
    "SELECT *\n",
    "FROM USERS\n",
    "WHERE NOT CITY = 'New York';"
   ]
  },
  {
   "cell_type": "markdown",
   "id": "478abeb7-f80b-4c6b-80bb-83c03c323649",
   "metadata": {},
   "source": [
    "#### Segmenting the user"
   ]
  },
  {
   "cell_type": "code",
   "execution_count": null,
   "id": "f18ec7c7-24c8-43eb-bc0c-3939e1ce9a10",
   "metadata": {},
   "outputs": [],
   "source": [
    "SELECT FIRST_NAME || ' ' || LAST_NAME AS FULL_NAME, EMAIL\n",
    "FROM USERS\n",
    "WHERE CITY = 'New York';\n",
    "\n",
    "-- SELECT \"HELLO\" || ' ' || \"WORLD\" AS OUTPUT;"
   ]
  },
  {
   "cell_type": "markdown",
   "id": "67480d22-4240-4658-8af8-1e73b8989285",
   "metadata": {},
   "source": [
    "#### Challaenges Let's get some hands on practice "
   ]
  },
  {
   "cell_type": "code",
   "execution_count": null,
   "id": "eb2b49e6-f101-4b78-94c5-0e8c6c0e9a18",
   "metadata": {},
   "outputs": [],
   "source": [
    "-- Find all rides where the fare amount was greater than $20 \n",
    "SELECT *\n",
    "FROM RIDES\n",
    "WHERE FARE_AMOUNT > 20;\n",
    "\n",
    "-- Find all users who registered before a specific date: 2022-01-01\n",
    "SELECT *\n",
    "FROM USERS\n",
    "WHERE REGISTRATION_DATE < '2022-01-01';\n",
    "\n",
    "-- Calculate the total fare amount for all rides\n",
    "SELECT FARE_AMOUNT + TIP_AMOUNT AS TOTAL_FARE\n",
    "FROM RIDES;\n",
    "\n",
    "-- Calculate the average fare amount per mile for all rides\n",
    "SELECT FARE_AMOUNT / DISTANCE AS FARE_PER_MILE\n",
    "FROM RIDES;\n",
    "\n",
    "-- Calculate the remainder of dividing the fare amount by 5 for all rides\n",
    "SELECT FARE_AMOUNT % 5 AS FARE_REMAINDER\n",
    "FROM RIDES;\n",
    "\n",
    "-- Find all rides where the pickup location was either Central Park or Times Square\n",
    "SELECT *\n",
    "FROM RIDES\n",
    "WHERE PICKUP_LOCATION = 'Central Park'\n",
    "OR PICKUP_LOCATION = 'Times Square';\n",
    "\n",
    "-- Find all users who registered before a specific date (2022-01-01) and are from New York\n",
    "SELECT *\n",
    "FROM USERS\n",
    "WHERE REGISTRATION_DATE < '2022-01-01' AND CITY = 'New York';"
   ]
  },
  {
   "cell_type": "code",
   "execution_count": null,
   "id": "a01900e0-7db8-43c3-ba04-5c7cff00a00a",
   "metadata": {},
   "outputs": [],
   "source": [
    "CREATE TABLE vehicles (\n",
    "  vehicle_id INTEGER PRIMARY KEY,\n",
    "  make TEXT NOT NULL,\n",
    "  model TEXT NOT NULL,\n",
    "  year INTEGER NOT NULL,\n",
    "  license_plate varchar(100) NOT NULL UNIQUE\n",
    ");\n",
    "\n",
    "CREATE TABLE drivers (\n",
    "  driver_id INTEGER PRIMARY KEY,\n",
    "  first_name TEXT NOT NULL,\n",
    "  last_name TEXT NOT NULL,\n",
    "  email varchar(255) NOT NULL UNIQUE,\n",
    "  phone varchar(12) NOT NULL UNIQUE,\n",
    "  city TEXT NOT NULL,\n",
    "  vehicle_id INTEGER NOT NULL,\n",
    "  FOREIGN KEY (vehicle_id) REFERENCES vehicles (vehicle_id)\n",
    ");\n",
    "\n",
    "CREATE TABLE rides (\n",
    "  ride_id INTEGER PRIMARY KEY,\n",
    "  pickup_time DATETIME NOT NULL DEFAULT CURRENT_TIMESTAMP,\n",
    "  dropoff_time DATETIME NOT NULL,\n",
    "  pickup_location TEXT NOT NULL,\n",
    "  dropoff_location TEXT NOT NULL,\n",
    "  fare_amount REAL NOT NULL,\n",
    "  tip_amount REAL NOT NULL,\n",
    "  distance REAL NOT NULL,\n",
    "  user_id INTEGER NOT NULL,\n",
    "  driver_id INTEGER NOT NULL,\n",
    "  status TEXT NOT NULL,\n",
    "  FOREIGN KEY (user_id) REFERENCES users (user_id),\n",
    "  FOREIGN KEY (driver_id) REFERENCES drivers (driver_id)\n",
    ");\n",
    "\n",
    "\n",
    "-- Additional users from San Jose\n",
    "INSERT INTO users (user_id, first_name, last_name, email, phone, city, registration_date) VALUES\n",
    "(36, 'Anthony', 'Ortega', 'aortega@example.com', '505-3456', 'San Jose', '2023-01-12 08:30:00'),\n",
    "(37, 'Christina', 'Henderson', 'chenderson@example.com', '505-7890', 'San Jose', '2023-01-13 10:00:00'),\n",
    "(38, 'George', 'Murphy', 'gmurphy@example.com', '505-2345', 'San Jose', '2023-01-14 11:45:00'),\n",
    "(39, 'Linda', 'Peterson', 'lpeterson@example.com', '505-6789', 'San Jose', '2023-01-15 16:00:00'),\n",
    "(40, 'Thomas', 'Harris', 'tharris@example.com', '505-0123', 'San Jose', '2023-01-16 18:00:00');\n",
    "\n",
    "-- Additional users from New York\n",
    "INSERT INTO users (user_id, first_name, last_name, email, phone, city, registration_date) VALUES\n",
    "(31, 'Jennifer', 'Thompson', 'jthompson@example.com', '515-4567', 'New York', '2023-01-17 10:30:00'),\n",
    "(32, 'Robert', 'Turner', 'rturner@example.com', '515-8901', 'New York', '2023-01-18 11:00:00'),\n",
    "(33, 'Maria', 'Sanchez', 'msanchez@example.com', '515-5678', 'New York', '2023-01-19 14:00:00'),\n",
    "(34, 'John', 'Phillips', 'jphillips@example.com', '515-9012', 'New York', '2023-01-20 16:30:00'),\n",
    "(35, 'Susan', 'Gonzalez', 'sgonzalez@example.com', '515-3456', 'New York', '2023-01-21 17:30:00');\n",
    "\n",
    "-- Additional users from San Francisco\n",
    "INSERT INTO users (user_id, first_name, last_name, email, phone, city, registration_date) VALUES\n",
    "(41, 'David', 'Clark', 'dclark@example.com', '525-7890', 'San Francisco', '2023-01-22 09:00:00'),\n",
    "(42, 'Nancy', 'Adams', 'nadams@example.com', '525-2345', 'San Francisco', '2023-01-23 10:45:00'),\n",
    "(43, 'Joseph', 'Baker', 'jbaker@example.com', '525-6789', 'San Francisco', '2023-01-24 12:30:00'),\n",
    "(44, 'Margaret', 'Taylor', 'mtaylor@example.com', '525-0123', 'San Francisco', '2023-01-25 14:15:00'),\n",
    "(45, 'Charles', 'Anderson', 'canderson@example.com', '525-4567', 'San Francisco', '2023-01-26 15:00:00');\n",
    "\n",
    "\n",
    "\n",
    "-- Vehicles table\n",
    "INSERT INTO vehicles (vehicle_id, make, model, year, license_plate) VALUES\n",
    "(1, 'Toyota', 'Camry', 2018, 'ABC123'),\n",
    "(2, 'Honda', 'Civic', 2017, 'DEF456'),\n",
    "(3, 'Ford', 'F-150', 2020, 'GHI789'),\n",
    "(4, 'Chevrolet', 'Malibu', 2019, 'JKL012'),\n",
    "(5, 'Nissan', 'Altima', 2018, 'MNO345');\n",
    "\n",
    "-- Drivers table\n",
    "INSERT INTO drivers (driver_id, first_name, last_name, email, phone, city, vehicle_id) VALUES\n",
    "(1,'Mike', 'Brown', 'mbrown@example.com', '555-2345', 'New York', 1),\n",
    "(2,'Rachel', 'Garcia', 'rgarcia@example.com', '555-6789', 'Los Angeles', 2),\n",
    "(3,'David', 'Lee', 'dlee@example.com', '555-0123', 'Chicago', 3),\n",
    "(4,'Linda', 'Martinez', 'lmartinez@example.com', '555-4567', 'San Francisco', 4),\n",
    "(5,'Alex', 'Wilson', 'awilson@example.com', '555-8901', 'Seattle', 5);\n",
    "\n",
    "-- Rides table\n",
    "INSERT INTO rides (ride_id, pickup_time, dropoff_time, pickup_location, dropoff_location, fare_amount, tip_amount, distance, user_id, driver_id,status) VALUES\n",
    "(1,'2023-04-06 10:00:00', '2023-04-06 10:15:00', 'Central Park', 'Empire State Building', 10.50, 2.00, 3.0, 1, 1,11),\n",
    "(2,'2023-04-06 11:30:00', '2023-04-06 12:15:00', 'Universal Studios', 'Hollywood Walk of Fame', 25.75, 5.00, 8.0, 2, 2,22),\n",
    "(3,'2023-04-06 14:00:00', '2023-04-06 14:45:00', 'Millennium Park', 'Willis Tower', 15.20, 3.00, 5.5, 3, 3,33),\n",
    "(4,'2023-04-06 16:30:00', '2023-04-06 17:15:00', 'Golden Gate Bridge', \"Fisherman's Wharf\", 21.80, 4.00, 7.5, 4, 4,44),\n",
    "(5,'2023-04-06 18:30:00', '2023-04-06 19:00:00', 'Space Needle', 'Pike Place Market', 12.50, 2.50, 3.0, 5, 5,55);\n",
    "\n",
    "-- Subsequent Insert Statements with Tip Amount\n",
    "INSERT INTO rides (ride_id, pickup_time, dropoff_time, pickup_location, dropoff_location, fare_amount, tip_amount, distance, user_id, driver_id, status)\n",
    "VALUES (6,'2023-04-15 10:00:00', '2023-04-15 10:30:00', 'Central Park', 'Times Square', 10.0, 2.00, 5.0, 1, 1, 'completed');\n",
    "\n",
    "INSERT INTO rides (ride_id,pickup_time, dropoff_time, pickup_location, dropoff_location, fare_amount, tip_amount, distance, user_id, driver_id, status)\n",
    "VALUES (7,'2023-04-15 11:00:00', '2023-04-15 11:30:00', 'Empire State Building', 'Grand Central Station', 15.0, 3.00, 7.5, 2, 2, 'completed');\n",
    "\n",
    "INSERT INTO rides (ride_id,pickup_time, dropoff_time, pickup_location, dropoff_location, fare_amount, tip_amount, distance, user_id, driver_id, status)\n",
    "VALUES (8,'2023-04-16 10:00:00', '2023-04-16 10:30:00', 'Central Park', 'Times Square', 12.0, 2.40, 6.0, 3, 1, 'completed');\n",
    "\n",
    "INSERT INTO rides (ride_id,pickup_time, dropoff_time, pickup_location, dropoff_location, fare_amount, tip_amount, distance, user_id, driver_id, status)\n",
    "VALUES (9,'2023-04-16 11:00:00', '2023-04-16 11:30:00', 'Empire State Building', 'Grand Central Station', 20.0, 4.00, 10.0, 4, 2, 'completed');\n",
    "\n",
    "INSERT INTO rides (pickup_time, dropoff_time, pickup_location, dropoff_location, fare_amount, tip_amount, distance, user_id, driver_id, status)\n",
    "VALUES ('2023-04-17 10:00:00', '2023-04-17 10:30:00', 'Central Park', 'Times Square', 18.0, 3.60, 9.0, 5, 1, 'completed');\n",
    "\n",
    "INSERT INTO rides (pickup_time, dropoff_time, pickup_location, dropoff_location, fare_amount, tip_amount, distance, user_id, driver_id, status)\n",
    "VALUES ('2023-04-17 11:00:00', '2023-04-17 11:30:00', 'Empire State Building', 'Grand Central Station', 25.0, 5.00, 12.5, 6, 2, 'completed');\n",
    "\n",
    "INSERT INTO rides (pickup_time, dropoff_time, pickup_location, dropoff_location, fare_amount, tip_amount, distance, user_id, driver_id, status)\n",
    "VALUES ('2023-04-18 10:00:00', '2023-04-18 10:30:00', 'Central Park', 'Times Square', 22.0, 4.40, 11.0, 7, 1, 'completed');"
   ]
  },
  {
   "cell_type": "code",
   "execution_count": null,
   "id": "924cabbe-4f7d-4097-99af-7dbc33b6df4e",
   "metadata": {},
   "outputs": [],
   "source": []
  },
  {
   "cell_type": "code",
   "execution_count": null,
   "id": "2b31ddaf-5c4d-4188-85f4-b53e78ef5e02",
   "metadata": {},
   "outputs": [],
   "source": []
  }
 ],
 "metadata": {
  "kernelspec": {
   "display_name": "Python 3 (ipykernel)",
   "language": "python",
   "name": "python3"
  },
  "language_info": {
   "codemirror_mode": {
    "name": "ipython",
    "version": 3
   },
   "file_extension": ".py",
   "mimetype": "text/x-python",
   "name": "python",
   "nbconvert_exporter": "python",
   "pygments_lexer": "ipython3",
   "version": "3.11.5"
  }
 },
 "nbformat": 4,
 "nbformat_minor": 5
}
