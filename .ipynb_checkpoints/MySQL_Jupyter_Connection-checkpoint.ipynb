{
 "cells": [
  {
   "cell_type": "code",
   "execution_count": 1,
   "id": "af70b203",
   "metadata": {},
   "outputs": [],
   "source": [
    "import pandas as pd\n",
    "import numpy as np\n",
    "import mysql.connector"
   ]
  },
  {
   "cell_type": "code",
   "execution_count": 2,
   "id": "682ded9e",
   "metadata": {},
   "outputs": [],
   "source": [
    "# pip install mysql-connector-python"
   ]
  },
  {
   "cell_type": "markdown",
   "id": "59e0cfa3",
   "metadata": {},
   "source": [
    "###### Establish a connection to the MySQL server "
   ]
  },
  {
   "cell_type": "code",
   "execution_count": 3,
   "id": "29d288a3",
   "metadata": {},
   "outputs": [
    {
     "data": {
      "text/plain": [
       "<mysql.connector.connection_cext.CMySQLConnection at 0x1b150d36e50>"
      ]
     },
     "execution_count": 3,
     "metadata": {},
     "output_type": "execute_result"
    }
   ],
   "source": [
    "cnx = mysql.connector.connect(user='root',password='9175535381',host='localhost',database='digvijaydb')\n",
    "cnx"
   ]
  },
  {
   "cell_type": "markdown",
   "id": "064e744c",
   "metadata": {},
   "source": [
    "###### Create a cursor object"
   ]
  },
  {
   "cell_type": "code",
   "execution_count": 4,
   "id": "250079f2",
   "metadata": {},
   "outputs": [
    {
     "data": {
      "text/plain": [
       "<mysql.connector.cursor_cext.CMySQLCursor at 0x1b150d36d50>"
      ]
     },
     "execution_count": 4,
     "metadata": {},
     "output_type": "execute_result"
    }
   ],
   "source": [
    "cursor = cnx.cursor()\n",
    "cursor"
   ]
  },
  {
   "cell_type": "markdown",
   "id": "548c9a3e",
   "metadata": {},
   "source": [
    "###### Writing query for MySQL"
   ]
  },
  {
   "cell_type": "code",
   "execution_count": 5,
   "id": "b0df5798",
   "metadata": {},
   "outputs": [],
   "source": [
    "cursor.execute('select * from emp_data')"
   ]
  },
  {
   "cell_type": "code",
   "execution_count": 6,
   "id": "be5f2ed1",
   "metadata": {},
   "outputs": [],
   "source": [
    "res=cursor.fetchall()"
   ]
  },
  {
   "cell_type": "markdown",
   "id": "ab7ee8ec",
   "metadata": {},
   "source": [
    "###### Process and disply query result"
   ]
  },
  {
   "cell_type": "code",
   "execution_count": 7,
   "id": "fa244d9a",
   "metadata": {},
   "outputs": [
    {
     "name": "stdout",
     "output_type": "stream",
     "text": [
      "(677509, 'Lois', 'Walker', 'F', 'lois.walker@hotmail.com', 168251, 'DALLAS', 677509, 10)\n",
      "(940761, 'Brenda', 'Robinson', 'F', 'brenda.robinson@gmail.com', 51063, 'CHICAGO', 940761, 10)\n",
      "(428945, 'Joe', 'Robinson', 'M', 'joe.robinson@gmail.com', 50155, 'CHICAGO', 428945, 10)\n",
      "(408351, 'Diane', 'Evans', 'F', 'diane.evans@yahoo.com', 180294, 'NEW YORK', 408351, 20)\n",
      "(193819, 'Benjamin', 'Russell', 'M', 'benjamin.russell@charter.net', 117642, 'DALLAS', 193819, 20)\n",
      "(499687, 'Patrick', 'Bailey', 'M', 'patrick.bailey@aol.com', 72305, 'CHICAGO', 499687, 20)\n",
      "(539712, 'Nancy', 'Baker', 'F', 'nancy.baker@bp.com', 98189, 'DALLAS', 539712, 30)\n",
      "(380086, 'Carol', 'Murphy', 'F', 'carol.murphy@gmail.com', 60918, 'NEW YORK', 380086, 30)\n",
      "(477616, 'Frances', 'Young', 'F', 'frances.young@gmail.com', 121587, 'CHICAGO', 477616, 30)\n"
     ]
    }
   ],
   "source": [
    "for row in res:\n",
    "    print(row)"
   ]
  },
  {
   "cell_type": "code",
   "execution_count": 8,
   "id": "210a48ad",
   "metadata": {},
   "outputs": [],
   "source": [
    "cursor.execute('select * from dept')"
   ]
  },
  {
   "cell_type": "code",
   "execution_count": 9,
   "id": "2d1440a1",
   "metadata": {},
   "outputs": [],
   "source": [
    "res1=cursor.fetchall()"
   ]
  },
  {
   "cell_type": "code",
   "execution_count": 10,
   "id": "4f5978c6",
   "metadata": {},
   "outputs": [
    {
     "name": "stdout",
     "output_type": "stream",
     "text": [
      "(677509, 'Lois', 10, 'Finance', 'CHICAGO', 'no')\n",
      "(940761, 'Brenda', 10, 'Finance', 'CHICAGO', 'no')\n",
      "(428945, 'Joe', 10, 'Finance', 'NEW YORK', 'no')\n",
      "(408351, 'Diane', 20, 'Tech', 'DALLAS', 'no')\n",
      "(193819, 'Benjamin', 20, 'Tech', 'CHICAGO', 'no')\n",
      "(499687, 'Patrick', 20, 'Tech', 'DALLAS', 'yes')\n",
      "(539712, 'Nancy', 30, 'HR', 'NEW YORK', 'no')\n",
      "(380086, 'Carol', 30, 'HR', 'CHICAGO', 'no')\n",
      "(477616, 'Frances', 30, 'HR', 'NEW YORK', 'no')\n",
      "(162402, 'Diana', 30, 'HR', 'DALLAS', 'no')\n",
      "(231469, 'Ralph', 30, 'HR', 'DALLAS', 'yes')\n",
      "(153989, 'Jack', 10, 'Finance', 'CHICAGO', 'yes')\n",
      "(386158, 'Melissa', 20, 'Tech', 'CHICAGO', 'yes')\n",
      "(301576, 'Wayne', 20, 'Tech', 'DALLAS', 'yes')\n",
      "(441771, 'Cheryl', 20, 'Tech', 'CHICAGO', 'yes')\n",
      "(528509, 'Paula', 20, 'Tech', 'CHICAGO', 'no')\n",
      "(912990, 'Joshua', 10, 'Finance', 'NEW YORK', 'no')\n",
      "(214352, 'Theresa', 30, 'HR', 'DALLAS', 'no')\n",
      "(890290, 'Julia', 10, 'Finance', 'CHICAGO', 'no')\n",
      "(622406, 'Thomas', 20, 'Tech', 'DALLAS', 'no')\n",
      "(979607, 'Carol', 20, 'Tech', 'DALLAS', 'yes')\n",
      "(969580, 'Matthew', 20, 'Tech', 'CHICAGO', 'no')\n",
      "(426038, 'Joan', 20, 'Tech', 'CHICAGO', 'yes')\n",
      "(388642, 'Ruby', 10, 'Finance', 'NEW YORK', 'yes')\n",
      "(560455, 'Carolyn', 30, 'HR', 'DALLAS', 'no')\n",
      "(477253, 'Anne', 30, 'HR', 'CHICAGO', 'no')\n",
      "(263480, 'Daniel', 30, 'HR', 'DALLAS', 'no')\n",
      "(683826, 'Roger', 10, 'Finance', 'DALLAS', 'no')\n",
      "(474599, 'Maria', 10, 'Finance', 'DALLAS', 'no')\n",
      "(335732, 'Brenda', 20, 'Tech', 'CHICAGO', 'no')\n",
      "(329752, 'Lillian', 20, 'Tech', 'CHICAGO', 'yes')\n",
      "(893212, 'Amy', 30, 'HR', 'DALLAS', 'yes')\n",
      "(621833, 'Gregory', 30, 'HR', 'CHICAGO', 'yes')\n",
      "(456747, 'Roy', 20, 'Tech', 'NEW YORK', 'no')\n",
      "(100, 'Ajay', 10, 'Finance', 'Pune', 'yes')\n",
      "(101, 'Sumit', 20, 'Tech', 'Mumbai', 'yes')\n",
      "(102, 'Rekha', 30, 'HR', 'Hyderabad', 'no')\n"
     ]
    }
   ],
   "source": [
    "for row in res1:\n",
    "    print(row)"
   ]
  },
  {
   "cell_type": "markdown",
   "id": "70f8cb6a",
   "metadata": {},
   "source": [
    "###### Close the cursor and the database connection when you're done:"
   ]
  },
  {
   "cell_type": "code",
   "execution_count": 11,
   "id": "26c09cc6",
   "metadata": {},
   "outputs": [],
   "source": [
    "cursor.close()\n",
    "cnx.close()"
   ]
  },
  {
   "cell_type": "code",
   "execution_count": null,
   "id": "36047b13",
   "metadata": {},
   "outputs": [],
   "source": []
  }
 ],
 "metadata": {
  "kernelspec": {
   "display_name": "Python 3 (ipykernel)",
   "language": "python",
   "name": "python3"
  },
  "language_info": {
   "codemirror_mode": {
    "name": "ipython",
    "version": 3
   },
   "file_extension": ".py",
   "mimetype": "text/x-python",
   "name": "python",
   "nbconvert_exporter": "python",
   "pygments_lexer": "ipython3",
   "version": "3.11.3"
  }
 },
 "nbformat": 4,
 "nbformat_minor": 5
}
